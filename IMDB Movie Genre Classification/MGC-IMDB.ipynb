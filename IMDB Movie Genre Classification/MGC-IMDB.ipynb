{
 "cells": [
  {
   "cell_type": "markdown",
   "metadata": {},
   "source": [
    "## Loading Dataset"
   ]
  },
  {
   "cell_type": "code",
   "execution_count": 6,
   "metadata": {},
   "outputs": [
    {
     "name": "stdout",
     "output_type": "stream",
     "text": [
      "Empty DataFrame\n",
      "Columns: [ID, Title, Plot Summary]\n",
      "Index: []\n",
      "<class 'pandas.core.frame.DataFrame'>\n",
      "RangeIndex: 0 entries\n",
      "Data columns (total 3 columns):\n",
      " #   Column        Non-Null Count  Dtype \n",
      "---  ------        --------------  ----- \n",
      " 0   ID            0 non-null      object\n",
      " 1   Title         0 non-null      object\n",
      " 2   Plot Summary  0 non-null      object\n",
      "dtypes: object(3)\n",
      "memory usage: 124.0+ bytes\n",
      "None\n"
     ]
    }
   ],
   "source": [
    "import pandas as pd\n",
    "\n",
    "# Function to load and parse the dataset\n",
    "def load_data(filepath):\n",
    "    data = []\n",
    "    with open(filepath, \"r\", encoding=\"utf-8\") as file:\n",
    "        for line in file:\n",
    "            parts = line.strip().split(\" ::: \")  # Splitting based on ' ::: '\n",
    "            if len(parts) == 3:\n",
    "                movie_id, title, plot = parts\n",
    "                data.append([movie_id, title, plot])\n",
    "    return pd.DataFrame(data, columns=[\"ID\", \"Title\", \"Plot Summary\"])\n",
    "\n",
    "# Load datasets\n",
    "train_df = load_data(\"train_data.txt\")\n",
    "test_df = load_data(\"test_data.txt\")\n",
    "test_solution_df = pd.read_csv(\"test_data_solution.txt\", delimiter=\"\\t\", encoding=\"utf-8\")\n",
    "\n",
    "# Display dataset info\n",
    "print(train_df.head())\n",
    "print(train_df.info())"
   ]
  }
 ],
 "metadata": {
  "kernelspec": {
   "display_name": ".venv",
   "language": "python",
   "name": "python3"
  },
  "language_info": {
   "codemirror_mode": {
    "name": "ipython",
    "version": 3
   },
   "file_extension": ".py",
   "mimetype": "text/x-python",
   "name": "python",
   "nbconvert_exporter": "python",
   "pygments_lexer": "ipython3",
   "version": "3.10.6"
  }
 },
 "nbformat": 4,
 "nbformat_minor": 2
}
